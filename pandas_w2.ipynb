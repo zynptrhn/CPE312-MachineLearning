{
 "cells": [
  {
   "cell_type": "code",
   "execution_count": null,
   "metadata": {},
   "outputs": [],
   "source": [
    "import numpy as np \n",
    "import pandas as pd"
   ]
  },
  {
   "cell_type": "code",
   "execution_count": null,
   "metadata": {},
   "outputs": [],
   "source": [
    "t = (1,2,3,4)\n",
    "t[1:3]"
   ]
  },
  {
   "cell_type": "code",
   "execution_count": null,
   "metadata": {},
   "outputs": [],
   "source": [
    "dictionary = {\"name\":[\"ali\",\"veli\",\"zübeyde\",\"ahmet\",\"kubra\",\"can\"],\n",
    "             \"age\":[12,34,56,78,None,12],\n",
    "             \"note\":[123,456,78,87654,None,89]}\n",
    "dataframe1 = pd.DataFrame(dictionary) \n",
    "print(dataframe1)"
   ]
  },
  {
   "cell_type": "code",
   "execution_count": null,
   "metadata": {},
   "outputs": [],
   "source": [
    "df = pd.read_csv(r\"C:\\Users\\User\\Desktop\\data.csv\")\n",
    "print(df)"
   ]
  },
  {
   "cell_type": "code",
   "execution_count": null,
   "metadata": {},
   "outputs": [],
   "source": [
    "head = dataframe1.head() \n",
    "print(head)"
   ]
  },
  {
   "cell_type": "code",
   "execution_count": null,
   "metadata": {},
   "outputs": [],
   "source": [
    "tail = dataframe1.tail()\n",
    "print(tail)"
   ]
  },
  {
   "cell_type": "code",
   "execution_count": null,
   "metadata": {},
   "outputs": [],
   "source": [
    "print(dataframe1.columns)"
   ]
  },
  {
   "cell_type": "code",
   "execution_count": null,
   "metadata": {},
   "outputs": [],
   "source": [
    "print(dataframe1.info())"
   ]
  },
  {
   "cell_type": "code",
   "execution_count": null,
   "metadata": {},
   "outputs": [],
   "source": [
    "print(dataframe1.dtypes)"
   ]
  },
  {
   "cell_type": "code",
   "execution_count": null,
   "metadata": {},
   "outputs": [],
   "source": [
    "print(dataframe1.describe())"
   ]
  },
  {
   "cell_type": "code",
   "execution_count": null,
   "metadata": {},
   "outputs": [],
   "source": [
    "print(dataframe1[\"name\"]) \n",
    "print(dataframe1.loc[:, \"age\"])            \n",
    "dataframe1[\"new_future\"] = [1,2,3,4,5,6] \n",
    "print(dataframe1.loc[:3,\"age\"])\n",
    "print(dataframe1.loc[:3, \"name\":\"note\"])\n",
    "print(dataframe1.loc[::-1])"
   ]
  },
  {
   "cell_type": "code",
   "execution_count": null,
   "metadata": {},
   "outputs": [],
   "source": [
    "print(dataframe1.loc[:, \"new_feature\"]) "
   ]
  },
  {
   "cell_type": "code",
   "execution_count": null,
   "metadata": {},
   "outputs": [],
   "source": [
    "print(dataframe1.loc[:3, [\"name\",\"note\"]])"
   ]
  },
  {
   "cell_type": "code",
   "execution_count": null,
   "metadata": {},
   "outputs": [],
   "source": [
    "print(dataframe1.loc[:,:\"age\"])"
   ]
  },
  {
   "cell_type": "code",
   "execution_count": null,
   "metadata": {},
   "outputs": [],
   "source": [
    "print(dataframe1.iloc[:,[2]])"
   ]
  },
  {
   "cell_type": "code",
   "execution_count": null,
   "metadata": {},
   "outputs": [],
   "source": [
    "filtre1 = dataframe1.age>10\n",
    "dataframe1[\"bool\"]= filtre1\n",
    "print(dataframe1.loc[:,[\"age\",\"bool\"]])"
   ]
  },
  {
   "cell_type": "code",
   "execution_count": null,
   "metadata": {},
   "outputs": [],
   "source": [
    "type(filtre1)"
   ]
  },
  {
   "cell_type": "code",
   "execution_count": null,
   "metadata": {},
   "outputs": [],
   "source": [
    "filtrelenmis_data= dataframe1[filtre1] \n",
    "print(filtrelenmis_data)\n"
   ]
  },
  {
   "cell_type": "code",
   "execution_count": null,
   "metadata": {},
   "outputs": [],
   "source": [
    "filtre2 = dataframe1.note>100\n",
    "filtrelenmis_data2 = dataframe1[filtre2&filtre1] \n",
    "print(filtrelenmis_data2)\n"
   ]
  },
  {
   "cell_type": "code",
   "execution_count": null,
   "metadata": {},
   "outputs": [],
   "source": [
    "dataframe1[dataframe1.age>20]"
   ]
  },
  {
   "cell_type": "code",
   "execution_count": null,
   "metadata": {},
   "outputs": [],
   "source": [
    "mean1 = dataframe1.note.mean()\n",
    "print(mean1)\n",
    "mean_np= np.mean(dataframe1.note) \n",
    "print(mean_np)"
   ]
  },
  {
   "cell_type": "code",
   "execution_count": null,
   "metadata": {},
   "outputs": [],
   "source": [
    "dataframe1.dropna(inplace=True) \n",
    "dataframe1"
   ]
  },
  {
   "cell_type": "code",
   "execution_count": null,
   "metadata": {},
   "outputs": [],
   "source": [
    "print(dataframe1.note.mean())\n",
    "dataframe1[\"mean\"]= [\"bad\" if dataframe1.note.mean()>each else \"good\" for each in dataframe1.note]\n",
    "dataframe1"
   ]
  },
  {
   "cell_type": "code",
   "execution_count": null,
   "metadata": {},
   "outputs": [],
   "source": [
    "dataframe1.columns = [each.upper() for each in dataframe1.columns] \n",
    "\n",
    "dataframe1.columns"
   ]
  },
  {
   "cell_type": "code",
   "execution_count": null,
   "metadata": {},
   "outputs": [],
   "source": [
    "dataframe1.drop([\"NEW_FUTURE\"],axis=1,inplace=True)\n",
    "dataframe1"
   ]
  },
  {
   "cell_type": "code",
   "execution_count": null,
   "metadata": {},
   "outputs": [],
   "source": [
    "data1 = dataframe1.head()     \n",
    "data2 = dataframe1.tail()\n",
    "data_concat = pd.concat([data1,data2],axis=0)\n",
    "data_concat"
   ]
  },
  {
   "cell_type": "code",
   "execution_count": null,
   "metadata": {},
   "outputs": [],
   "source": [
    "data_contact2 = pd.concat([data1,data2],axis=1)\n",
    "data_contact2"
   ]
  },
  {
   "cell_type": "code",
   "execution_count": null,
   "metadata": {},
   "outputs": [],
   "source": [
    "dataframe1[\"new_age\"] = [each*2 for each in dataframe1.AGE]\n",
    "dataframe1"
   ]
  }
 ],
 "metadata": {
  "language_info": {
   "name": "python"
  }
 },
 "nbformat": 4,
 "nbformat_minor": 2
}
