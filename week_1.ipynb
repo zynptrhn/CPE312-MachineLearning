{
 "cells": [
  {
   "cell_type": "code",
   "execution_count": 4,
   "id": "f2ac2db4",
   "metadata": {},
   "outputs": [
    {
     "name": "stdout",
     "output_type": "stream",
     "text": [
      "10\n",
      "programming\n",
      "<class 'int'>\n",
      "<class 'float'>\n",
      "<class 'str'>\n"
     ]
    }
   ],
   "source": [
    "var1=10\n",
    "var2=20.44\n",
    "x=\"programming\"\n",
    "\n",
    "print(var1)\n",
    "print(x)\n",
    "print(type(var1))\n",
    "print(type(var2))\n",
    "print(type(x))"
   ]
  },
  {
   "cell_type": "code",
   "execution_count": 5,
   "id": "5b46b887",
   "metadata": {},
   "outputs": [
    {
     "name": "stdout",
     "output_type": "stream",
     "text": [
      "[1, 3, 5, 7, 9]\n"
     ]
    }
   ],
   "source": [
    "list_num=[1,3,5,7,9]\n",
    "\n",
    "print(list_num)\n",
    "\n"
   ]
  },
  {
   "cell_type": "code",
   "execution_count": 6,
   "id": "f520a3ae",
   "metadata": {},
   "outputs": [
    {
     "name": "stdout",
     "output_type": "stream",
     "text": [
      "1\n"
     ]
    }
   ],
   "source": [
    "#first element of the list \n",
    "print(list_num[0])"
   ]
  },
  {
   "cell_type": "code",
   "execution_count": 7,
   "id": "22b1fc85",
   "metadata": {},
   "outputs": [
    {
     "data": {
      "text/plain": [
       "9"
      ]
     },
     "execution_count": 7,
     "metadata": {},
     "output_type": "execute_result"
    }
   ],
   "source": [
    "#last element of the list\n",
    "list_num[-1]"
   ]
  },
  {
   "cell_type": "code",
   "execution_count": 8,
   "id": "6e4187c1",
   "metadata": {},
   "outputs": [
    {
     "data": {
      "text/plain": [
       "[1, 3]"
      ]
     },
     "execution_count": 8,
     "metadata": {},
     "output_type": "execute_result"
    }
   ],
   "source": [
    "#variables in the range of list\n",
    "list_num[0:2]\n"
   ]
  },
  {
   "cell_type": "code",
   "execution_count": 9,
   "id": "e1e616af",
   "metadata": {},
   "outputs": [
    {
     "data": {
      "text/plain": [
       "[3]"
      ]
     },
     "execution_count": 9,
     "metadata": {},
     "output_type": "execute_result"
    }
   ],
   "source": [
    "list_num[1:2]"
   ]
  },
  {
   "cell_type": "code",
   "execution_count": 10,
   "id": "796c43b4",
   "metadata": {},
   "outputs": [
    {
     "name": "stdout",
     "output_type": "stream",
     "text": [
      "[1, 3, 5, 7, 9, 2]\n"
     ]
    }
   ],
   "source": [
    "#to add variables to the list\n",
    "list_num.append(2)\n",
    "print(list_num)"
   ]
  },
  {
   "cell_type": "code",
   "execution_count": 11,
   "id": "48c2f8f3",
   "metadata": {},
   "outputs": [
    {
     "name": "stdout",
     "output_type": "stream",
     "text": [
      "[1, 3, 7, 9, 2]\n"
     ]
    }
   ],
   "source": [
    "#to delete variables to the list \n",
    "list_num.remove(5)\n",
    "print(list_num)"
   ]
  },
  {
   "cell_type": "code",
   "execution_count": 12,
   "id": "6b7d0e57",
   "metadata": {},
   "outputs": [
    {
     "name": "stdout",
     "output_type": "stream",
     "text": [
      "[2, 9, 7, 3, 1]\n"
     ]
    }
   ],
   "source": [
    "#to print the list in reverse\n",
    "list_num.reverse()\n",
    "print(list_num)"
   ]
  },
  {
   "cell_type": "code",
   "execution_count": 13,
   "id": "98f1894a",
   "metadata": {},
   "outputs": [
    {
     "name": "stdout",
     "output_type": "stream",
     "text": [
      "[1, 2, 3, 7, 9]\n"
     ]
    }
   ],
   "source": [
    "#to sort the list from smallest to largest\n",
    "list_num.sort()\n",
    "print(list_num)"
   ]
  },
  {
   "cell_type": "code",
   "execution_count": 19,
   "id": "2a275375",
   "metadata": {},
   "outputs": [
    {
     "name": "stdout",
     "output_type": "stream",
     "text": [
      "9\n"
     ]
    }
   ],
   "source": [
    "#to find maximum element with for loop\n",
    "x=3\n",
    "for each in list_num:\n",
    "    if (each >= x) :\n",
    "        x=each\n",
    "    else:\n",
    "        continue\n",
    "print(x)"
   ]
  },
  {
   "cell_type": "code",
   "execution_count": 20,
   "id": "fd8b3c06",
   "metadata": {},
   "outputs": [
    {
     "name": "stdout",
     "output_type": "stream",
     "text": [
      "0\n",
      "1\n",
      "2\n",
      "3\n",
      "4\n"
     ]
    }
   ],
   "source": [
    "#to print from 0 to 5 with while loop(5 is not included)\n",
    "i=0\n",
    "while(i<5):\n",
    "    print(i)\n",
    "    i=i+1"
   ]
  },
  {
   "cell_type": "code",
   "execution_count": 21,
   "id": "01b26086",
   "metadata": {},
   "outputs": [
    {
     "name": "stdout",
     "output_type": "stream",
     "text": [
      "6\n",
      "34\n",
      "Kastamonu\n",
      "55\n",
      "78\n"
     ]
    }
   ],
   "source": [
    "listOfCity = [6,34,37,55,78]\n",
    "\n",
    "for i in listOfCity:\n",
    "    if i == 37:\n",
    "        print(\"Kastamonu\")\n",
    "    else:\n",
    "        print(i)"
   ]
  },
  {
   "cell_type": "code",
   "execution_count": 22,
   "id": "986604b9",
   "metadata": {},
   "outputs": [
    {
     "data": {
      "text/plain": [
       "12.56"
      ]
     },
     "execution_count": 22,
     "metadata": {},
     "output_type": "execute_result"
    }
   ],
   "source": [
    "#to use function\n",
    "def cember_cevre(r,pi=3.14):  #Pi is default value\n",
    "    result=2*pi*r\n",
    "    return result\n",
    "cember_cevre(2)                #to send value "
   ]
  },
  {
   "cell_type": "code",
   "execution_count": 23,
   "id": "6bf27da5",
   "metadata": {},
   "outputs": [
    {
     "data": {
      "text/plain": [
       "25"
      ]
     },
     "execution_count": 23,
     "metadata": {},
     "output_type": "execute_result"
    }
   ],
   "source": [
    "#another example for function\n",
    "def hesapla(x):\n",
    "    result=x*x\n",
    "    return result\n",
    "hesapla(5)"
   ]
  },
  {
   "cell_type": "code",
   "execution_count": 24,
   "id": "9f50ac38",
   "metadata": {},
   "outputs": [
    {
     "name": "stdout",
     "output_type": "stream",
     "text": [
      "25\n"
     ]
    }
   ],
   "source": [
    "#Shorter way to use function is lambda \n",
    "result=lambda x:x*x\n",
    "print(result(5))"
   ]
  },
  {
   "cell_type": "code",
   "execution_count": 25,
   "id": "401bd28f",
   "metadata": {},
   "outputs": [
    {
     "name": "stdout",
     "output_type": "stream",
     "text": [
      "{'gülde': 23, 'zeynep': 20, 'müge': 25}\n"
     ]
    }
   ],
   "source": [
    "#to use dictionary\n",
    "dictionary={\"gülde\":23,\"zeynep\":20,\"müge\":25} #keys&values\n",
    "print(dictionary)"
   ]
  },
  {
   "cell_type": "code",
   "execution_count": 26,
   "id": "2a6bee02",
   "metadata": {},
   "outputs": [
    {
     "data": {
      "text/plain": [
       "dict_keys(['gülde', 'zeynep', 'müge'])"
      ]
     },
     "execution_count": 26,
     "metadata": {},
     "output_type": "execute_result"
    }
   ],
   "source": [
    "dictionary.keys()   "
   ]
  },
  {
   "cell_type": "code",
   "execution_count": 27,
   "id": "ea8788fd",
   "metadata": {},
   "outputs": [
    {
     "data": {
      "text/plain": [
       "dict_values([23, 20, 25])"
      ]
     },
     "execution_count": 27,
     "metadata": {},
     "output_type": "execute_result"
    }
   ],
   "source": [
    "dictionary.values()\n"
   ]
  },
  {
   "cell_type": "code",
   "execution_count": 28,
   "id": "9883ce39",
   "metadata": {},
   "outputs": [
    {
     "name": "stdout",
     "output_type": "stream",
     "text": [
      "no\n"
     ]
    }
   ],
   "source": [
    "#to find out if the keys is in the dictionary\n",
    "b=dictionary.keys()\n",
    "\n",
    "if \"yavuz\" in b:\n",
    "    print(\"yes\")\n",
    "else:\n",
    "    print(\"no\")"
   ]
  },
  {
   "cell_type": "code",
   "execution_count": 29,
   "id": "67d3a4b1",
   "metadata": {},
   "outputs": [
    {
     "name": "stdout",
     "output_type": "stream",
     "text": [
      "{'name': 'Zeynep', 'age': 22}\n",
      "Zeynep\n",
      "dict_keys(['name', 'age'])\n",
      "dict_values(['Zeynep', 22])\n"
     ]
    }
   ],
   "source": [
    "customDictionary = {\"name\":\"Zeynep\",\"age\":22}\n",
    "\n",
    "print(customDictionary)\n",
    "print(customDictionary[\"name\"])\n",
    "\n",
    "type(customDictionary)\n",
    "\n",
    "print(customDictionary.keys())\n",
    "print(customDictionary.values())"
   ]
  }
 ],
 "metadata": {
  "kernelspec": {
   "display_name": "Python 3 (ipykernel)",
   "language": "python",
   "name": "python3"
  },
  "language_info": {
   "codemirror_mode": {
    "name": "ipython",
    "version": 3
   },
   "file_extension": ".py",
   "mimetype": "text/x-python",
   "name": "python",
   "nbconvert_exporter": "python",
   "pygments_lexer": "ipython3",
   "version": "3.11.5"
  }
 },
 "nbformat": 4,
 "nbformat_minor": 5
}
